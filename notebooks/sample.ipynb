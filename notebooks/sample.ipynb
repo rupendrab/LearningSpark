{
 "cells": [
  {
   "cell_type": "code",
   "execution_count": 1,
   "metadata": {},
   "outputs": [],
   "source": [
    "from pyspark.sql import SparkSession"
   ]
  },
  {
   "cell_type": "code",
   "execution_count": 2,
   "metadata": {},
   "outputs": [
    {
     "name": "stderr",
     "output_type": "stream",
     "text": [
      "WARNING: An illegal reflective access operation has occurred\n",
      "WARNING: Illegal reflective access by org.apache.spark.unsafe.Platform (file:/opt/spark/jars/spark-unsafe_2.12-3.0.2.jar) to constructor java.nio.DirectByteBuffer(long,int)\n",
      "WARNING: Please consider reporting this to the maintainers of org.apache.spark.unsafe.Platform\n",
      "WARNING: Use --illegal-access=warn to enable warnings of further illegal reflective access operations\n",
      "WARNING: All illegal access operations will be denied in a future release\n",
      "22/12/20 20:39:26 WARN NativeCodeLoader: Unable to load native-hadoop library for your platform... using builtin-java classes where applicable\n",
      "Using Spark's default log4j profile: org/apache/spark/log4j-defaults.properties\n",
      "Setting default log level to \"WARN\".\n",
      "To adjust logging level use sc.setLogLevel(newLevel). For SparkR, use setLogLevel(newLevel).\n"
     ]
    }
   ],
   "source": [
    "spark1 = SparkSession.builder.appName(\"Test\").getOrCreate()"
   ]
  },
  {
   "cell_type": "code",
   "execution_count": 3,
   "metadata": {},
   "outputs": [
    {
     "data": {
      "text/html": [
       "\n",
       "            <div>\n",
       "                <p><b>SparkSession - in-memory</b></p>\n",
       "                \n",
       "        <div>\n",
       "            <p><b>SparkContext</b></p>\n",
       "\n",
       "            <p><a href=\"http://d20356c4d460:4040\">Spark UI</a></p>\n",
       "\n",
       "            <dl>\n",
       "              <dt>Version</dt>\n",
       "                <dd><code>v3.0.2</code></dd>\n",
       "              <dt>Master</dt>\n",
       "                <dd><code>local[*]</code></dd>\n",
       "              <dt>AppName</dt>\n",
       "                <dd><code>Test</code></dd>\n",
       "            </dl>\n",
       "        </div>\n",
       "        \n",
       "            </div>\n",
       "        "
      ],
      "text/plain": [
       "<pyspark.sql.session.SparkSession at 0x7f163fffa4e0>"
      ]
     },
     "execution_count": 3,
     "metadata": {},
     "output_type": "execute_result"
    }
   ],
   "source": [
    "spark1"
   ]
  },
  {
   "cell_type": "code",
   "execution_count": 4,
   "metadata": {},
   "outputs": [
    {
     "data": {
      "text/html": [
       "\n",
       "        <div>\n",
       "            <p><b>SparkContext</b></p>\n",
       "\n",
       "            <p><a href=\"http://d20356c4d460:4040\">Spark UI</a></p>\n",
       "\n",
       "            <dl>\n",
       "              <dt>Version</dt>\n",
       "                <dd><code>v3.0.2</code></dd>\n",
       "              <dt>Master</dt>\n",
       "                <dd><code>local[*]</code></dd>\n",
       "              <dt>AppName</dt>\n",
       "                <dd><code>Test</code></dd>\n",
       "            </dl>\n",
       "        </div>\n",
       "        "
      ],
      "text/plain": [
       "<SparkContext master=local[*] appName=Test>"
      ]
     },
     "execution_count": 4,
     "metadata": {},
     "output_type": "execute_result"
    }
   ],
   "source": [
    "spark1._sc"
   ]
  },
  {
   "cell_type": "code",
   "execution_count": 5,
   "metadata": {},
   "outputs": [],
   "source": [
    "def hscroll(activate=True):\n",
    "    \"\"\"activate/deactivate horizontal scrolling for wide output cells\"\"\"\n",
    "    from IPython.display import display, HTML\n",
    "    style = ('pre-wrap','pre')[activate] # select white-space style\n",
    "    display(HTML(\"<style>pre {white-space: %s !important}</style>\" % style))"
   ]
  },
  {
   "cell_type": "code",
   "execution_count": 6,
   "metadata": {},
   "outputs": [],
   "source": [
    "# Read a csv file with headers using an input schema. The column names in the schema does not match with the\n",
    "# given headers, so a warning will be generated\n",
    "\n",
    "from pyspark.sql.types import StructType, StructField, IntegerType, StringType, BooleanType, FloatType, DateType, TimestampType\n",
    "\n",
    "fire_schema = StructType (\n",
    "    [\n",
    "        StructField('CallNumber', IntegerType(), True),\n",
    "        StructField('UnitID', StringType(), True),\n",
    "        StructField('IncidentNumber', IntegerType(), True),\n",
    "        StructField('CallType', StringType(), True),\n",
    "        StructField('CallDate', DateType(), True),\n",
    "        StructField('WatchDate', DateType(), True),\n",
    "        StructField('ReceivedDate', StringType(), True),\n",
    "        StructField('EntryDate', TimestampType(), True),\n",
    "        StructField('DispatchDate', TimestampType(), True),\n",
    "        StructField('ResponseDate', TimestampType(), True),\n",
    "        StructField('SceneDate', TimestampType(), True),\n",
    "        StructField('TransportDate', TimestampType(), True),\n",
    "        StructField('HospitalDate', TimestampType(), True),\n",
    "        StructField('CallFinalDisposition', StringType(), True),\n",
    "        StructField('AvailableDtTm', TimestampType(), True),\n",
    "        StructField('Address', StringType(), True),       \n",
    "        StructField('City', StringType(), True),       \n",
    "        StructField('Zipcode', IntegerType(), True),       \n",
    "        StructField('Battalion', StringType(), True),                 \n",
    "        StructField('StationArea', StringType(), True),       \n",
    "        StructField('Box', StringType(), True),       \n",
    "        StructField('OriginalPriority', StringType(), True),       \n",
    "        StructField('Priority', StringType(), True),       \n",
    "        StructField('FinalPriority', IntegerType(), True),       \n",
    "        StructField('ALSUnit', BooleanType(), True),       \n",
    "        StructField('CallTypeGroup', StringType(), True),\n",
    "        StructField('NumAlarms', IntegerType(), True),\n",
    "        StructField('UnitType', StringType(), True),\n",
    "        StructField('UnitSequenceInCallDispatch', IntegerType(), True),\n",
    "        StructField('FirePreventionDistrict', StringType(), True),\n",
    "        StructField('SupervisorDistrict', StringType(), True),\n",
    "        StructField('NeighborhoodBoundaries', StringType(), True),\n",
    "        StructField('RowID', StringType(), True),\n",
    "        StructField('Location', StringType(), True),\n",
    "        StructField('AnalysisNeighborhoods', FloatType(), True)\n",
    "    ]\n",
    ")\n",
    "\n",
    "sf_fire_file = \"data/Fire_Department_Calls_for_Service_100K.csv\"\n",
    "\n",
    "# fire_df = spark1.read..csv(sf_fire_file, header=True, schema=fire_schema)\n",
    "\n",
    "fire_df = (spark1.read\n",
    "            .format(\"csv\")\n",
    "            .option(\"header\", \"true\")\n",
    "            .schema(fire_schema)\n",
    "            .option(\"enforceSchema\", \"true\")\n",
    "            .option(\"delimiter\", \",\")\n",
    "            .option(\"dateFormat\", \"MM/dd/yyyy\")\n",
    "            .option(\"timestampFormat\", \"MM/dd/yyyy hh:mm:ss a\")\n",
    "            .load(sf_fire_file)\n",
    "          )#.filter(\"callNumber is not null\")\n"
   ]
  },
  {
   "cell_type": "code",
   "execution_count": 7,
   "metadata": {},
   "outputs": [
    {
     "data": {
      "text/html": [
       "<style>pre {white-space: pre !important}</style>"
      ],
      "text/plain": [
       "<IPython.core.display.HTML object>"
      ]
     },
     "metadata": {},
     "output_type": "display_data"
    },
    {
     "name": "stderr",
     "output_type": "stream",
     "text": [
      "22/12/20 20:39:46 WARN package: Truncated the string representation of a plan since it was too large. This behavior can be adjusted by setting 'spark.sql.debug.maxToStringFields'.\n",
      "22/12/20 20:39:49 WARN CSVHeaderChecker: CSV header does not conform to the schema.\n",
      " Header: Call Number, Unit ID, Incident Number, Call Type, Call Date, Watch Date, Received DtTm, Entry DtTm, Dispatch DtTm, Response DtTm, On Scene DtTm, Transport DtTm, Hospital DtTm, Call Final Disposition, Available DtTm, Address, City, Zipcode of Incident, Battalion, Station Area, Box, Original Priority, Priority, Final Priority, ALS Unit, Call Type Group, Number of Alarms, Unit Type, Unit sequence in call dispatch, Fire Prevention District, Supervisor District, Neighborhooods - Analysis Boundaries, RowID, case_location, Analysis Neighborhoods\n",
      " Schema: CallNumber, UnitID, IncidentNumber, CallType, CallDate, WatchDate, ReceivedDate, EntryDate, DispatchDate, ResponseDate, SceneDate, TransportDate, HospitalDate, CallFinalDisposition, AvailableDtTm, Address, City, Zipcode, Battalion, StationArea, Box, OriginalPriority, Priority, FinalPriority, ALSUnit, CallTypeGroup, NumAlarms, UnitType, UnitSequenceInCallDispatch, FirePreventionDistrict, SupervisorDistrict, NeighborhoodBoundaries, RowID, Location, AnalysisNeighborhoods\n",
      "Expected: CallNumber but found: Call Number\n",
      "CSV file: file:///opt/spark/notebooks/data/Fire_Department_Calls_for_Service_100K.csv\n",
      "                                                                                \r"
     ]
    },
    {
     "name": "stdout",
     "output_type": "stream",
     "text": [
      "+----------+------+--------------+--------------------+----------+----------+--------------------+-------------------+-------------------+-------------------+-------------------+-------------------+-------------------+--------------------+-------------------+--------------------+-------------+-------+---------+-----------+----+----------------+--------+-------------+-------+--------------------+---------+--------+--------------------------+----------------------+------------------+----------------------+---------------+--------------------+---------------------+\n",
      "|CallNumber|UnitID|IncidentNumber|            CallType|  CallDate| WatchDate|        ReceivedDate|          EntryDate|       DispatchDate|       ResponseDate|          SceneDate|      TransportDate|       HospitalDate|CallFinalDisposition|      AvailableDtTm|             Address|         City|Zipcode|Battalion|StationArea| Box|OriginalPriority|Priority|FinalPriority|ALSUnit|       CallTypeGroup|NumAlarms|UnitType|UnitSequenceInCallDispatch|FirePreventionDistrict|SupervisorDistrict|NeighborhoodBoundaries|          RowID|            Location|AnalysisNeighborhoods|\n",
      "+----------+------+--------------+--------------------+----------+----------+--------------------+-------------------+-------------------+-------------------+-------------------+-------------------+-------------------+--------------------+-------------------+--------------------+-------------+-------+---------+-----------+----+----------------+--------+-------------+-------+--------------------+---------+--------+--------------------------+----------------------+------------------+----------------------+---------------+--------------------+---------------------+\n",
      "| 221210313|   E36|      22054955|        Outside Fire|2022-05-01|2022-04-30|05/01/2022 02:58:...|2022-05-01 02:59:15|2022-05-01 02:59:25|2022-05-01 03:01:06|2022-05-01 03:02:27|               null|               null|                Fire|2022-05-01 03:05:00|   GOUGH ST/GROVE ST|San Francisco|  94102|      B02|         36|3265|               3|       3|            3|   true|                Fire|        1|  ENGINE|                         1|                     2|                 5|          Hayes Valley|  221210313-E36|POINT (-122.42316...|                  9.0|\n",
      "| 220190150|   E29|      22008871|              Alarms|2022-01-19|2022-01-18|01/19/2022 01:42:...|2022-01-19 01:44:13|2022-01-19 01:44:28|2022-01-19 01:46:47|2022-01-19 01:49:32|               null|               null|                Fire|2022-01-19 02:35:26|100 Block of MISS...|San Francisco|  94107|      B03|         29|2431|               3|       3|            3|   true|               Alarm|        1|  ENGINE|                         1|                     3|                10|          Potrero Hill|  220190150-E29|POINT (-122.39469...|                 26.0|\n",
      "| 211233271|   T07|      21053032|              Alarms|2021-05-03|2021-05-03|05/03/2021 09:28:...|2021-05-03 21:28:12|2021-05-03 21:28:17|2021-05-03 21:29:10|2021-05-03 21:32:15|               null|               null|                Fire|2021-05-03 21:38:09|  0 Block of HOFF ST|San Francisco|  94110|      B02|         07|5236|               A|       3|            3|  false|               Alarm|        1|   TRUCK|                         2|                     2|                 9|               Mission|  211233271-T07|POINT (-122.42057...|                 20.0|\n",
      "| 212933533|   B02|      21127914|              Alarms|2021-10-20|2021-10-20|10/20/2021 10:08:...|2021-10-20 22:09:53|2021-10-20 22:10:07|2021-10-20 22:11:55|               null|               null|               null|                Fire|2021-10-20 22:25:52|200 Block of JONE...|San Francisco|  94102|      B03|         03|1456|               3|       3|            3|  false|               Alarm|        1|   CHIEF|                         3|                     3|                 6|            Tenderloin|  212933533-B02|POINT (-122.41243...|                 36.0|\n",
      "| 221202543|   E41|      22054815|              Alarms|2022-04-30|2022-04-30|04/30/2022 06:35:...|2022-04-30 18:37:28|2022-04-30 18:37:43|2022-04-30 18:38:17|               null|               null|               null|                Fire|2022-04-30 18:40:08|1400 Block of FIL...|San Francisco|  94109|      B04|         16|3146|               3|       3|            3|  false|               Alarm|        1|  ENGINE|                         4|                     4|                 2|          Russian Hill|  221202543-E41|POINT (-122.42333...|                 32.0|\n",
      "| 211232439|   B01|      21052945|              Alarms|2021-05-03|2021-05-03|05/03/2021 04:57:...|2021-05-03 16:58:39|2021-05-03 16:58:44|2021-05-03 17:00:27|               null|               null|               null|                Fire|2021-05-03 17:05:20|500 Block of JONE...|San Francisco|  94102|      B01|         03|1462|               3|       3|            3|  false|               Alarm|        1|   CHIEF|                         2|                     1|                 6|            Tenderloin|  211232439-B01|POINT (-122.41299...|                 36.0|\n",
      "| 211942517|   T03|      21083057|              Alarms|2021-07-13|2021-07-13|07/13/2021 04:50:...|2021-07-13 16:51:07|2021-07-13 16:51:17|               null|               null|               null|               null|                Fire|2021-07-13 16:54:45|900 Block of VAN ...|San Francisco|  94109|      B04|         03|3162|               3|       3|            3|  false|               Alarm|        1|   TRUCK|                         3|                     2|                 6|            Tenderloin|  211942517-T03|POINT (-122.42090...|                 36.0|\n",
      "| 212932758|   B01|      21127810|              Alarms|2021-10-20|2021-10-20|10/20/2021 05:46:...|2021-10-20 17:47:57|2021-10-20 17:48:05|2021-10-20 17:49:54|2021-10-20 17:53:45|               null|               null|                Fire|2021-10-20 18:00:04| 0 Block of BEACH ST|San Francisco|  94133|      B01|         28|0939|               3|       3|            3|  false|               Alarm|        1|   CHIEF|                         2|                     1|                 3|           North Beach|  212932758-B01|POINT (-122.40987...|                 23.0|\n",
      "| 221201816|   T03|      22054719|      Structure Fire|2022-04-30|2022-04-30|04/30/2022 02:27:...|2022-04-30 14:28:53|2022-04-30 14:29:13|2022-04-30 14:31:58|2022-04-30 14:31:58|               null|               null|                Fire|2022-04-30 14:46:15|   MISSION ST/9TH ST|San Francisco|  94103|      B02|         36|2336|               3|       3|            3|  false|               Alarm|        1|   TRUCK|                         3|                     2|                 6|       South of Market|  221201816-T03|POINT (-122.41471...|                 34.0|\n",
      "| 211941580| SCRT4|      21082970|    Medical Incident|2021-07-13|2021-07-13|07/13/2021 12:23:...|2021-07-13 12:28:02|2021-07-13 12:47:21|2021-07-13 12:47:21|               null|               null|               null|                SFPD|2021-07-13 12:48:46|100 Block of VICE...|San Francisco|  94127|      B08|         39|8612|               1|       1|            2|  false|Non Life-threatening|        1| SUPPORT|                         1|                     8|                 7|    West of Twin Peaks|211941580-SCRT4|POINT (-122.46750...|                 41.0|\n",
      "| 220181779|    50|      22008631|               Other|2022-01-18|2022-01-18|01/18/2022 01:38:...|2022-01-18 13:38:47|2022-01-18 13:59:04|2022-01-18 13:59:04|2022-01-18 13:59:04|               null|               null|                Fire|2022-01-18 15:55:14|    17-TH DE HARO ST|San Francisco|  94103|      B03|         29|2355|               2|       2|            2|   true|Non Life-threatening|        1|   MEDIC|                         1|                   3.0|                10|           Mission Bay|   220181779-50|POINT (-122.40113...|                  4.0|\n",
      "| 220111608|   E06|      22005327|              Alarms|2022-01-11|2022-01-11|01/11/2022 01:05:...|2022-01-11 13:07:03|2022-01-11 13:07:09|2022-01-11 13:08:15|2022-01-11 13:09:19|               null|               null|                Fire|2022-01-11 13:16:05|0 Block of SANCHE...|San Francisco|  94114|      B05|         06|5131|               3|       3|            3|   true|               Alarm|        1|  ENGINE|                         1|                     2|                 8|   Castro/Upper Market|  220111608-E06|POINT (-122.43120...|                  5.0|\n",
      "| 220111597| AM110|      22005326|    Medical Incident|2022-01-11|2022-01-11|01/11/2022 12:59:...|2022-01-11 13:02:48|2022-01-11 13:03:30|2022-01-11 13:03:48|2022-01-11 13:11:24|2022-01-11 14:04:39|2022-01-11 14:52:05|    Code 2 Transport|2022-01-11 15:36:28|100 Block of ADDI...|San Francisco|  94131|      B06|         26|8122|               2|       2|            2|  false|Potentially Life-...|        1| PRIVATE|                         1|                     6|                 8|             Glen Park|220111597-AM110|POINT (-122.43239...|                 10.0|\n",
      "| 220111595|   E07|      22005325|        Outside Fire|2022-01-11|2022-01-11|01/11/2022 01:01:...|2022-01-11 13:01:47|2022-01-11 13:02:38|2022-01-11 13:03:25|2022-01-11 13:05:37|               null|               null|                Fire|2022-01-11 13:07:41|  FLORIDA ST/15TH ST|San Francisco|  94103|      B02|         29|5221|               A|       3|            3|   true|                Fire|        1|  ENGINE|                         1|                     2|                 9|               Mission|  220111595-E07|POINT (-122.41158...|                 20.0|\n",
      "| 220181524|   E08|      22008605|              Alarms|2022-01-18|2022-01-18|01/18/2022 12:19:...|2022-01-18 12:22:54|2022-01-18 12:23:05|2022-01-18 12:23:12|2022-01-18 12:24:41|               null|               null|                Fire|2022-01-18 12:27:19|600 Block of BRYA...|San Francisco|  94107|      B03|         08|2242|               3|       3|            3|   true|               Alarm|        1|  ENGINE|                         2|                   3.0|                 6|       South of Market|  220181524-E08|POINT (-122.39917...|                 34.0|\n",
      "| 221201435|   E41|      22054664|        Outside Fire|2022-04-30|2022-04-30|04/30/2022 12:32:...|2022-04-30 12:34:09|2022-04-30 12:34:15|2022-04-30 12:35:20|2022-04-30 12:37:21|               null|               null|                Fire|2022-04-30 12:41:42|  LARKIN ST/GREEN ST|San Francisco|  94109|      B01|         41|1631|               3|       3|            3|  false|                Fire|        1|  ENGINE|                         1|                     1|                 3|          Russian Hill|  221201435-E41|POINT (-122.42050...|                 32.0|\n",
      "| 211941035|   T05|      21082896|Citizen Assist / ...|2021-07-13|2021-07-13|07/13/2021 10:00:...|2021-07-13 10:01:59|2021-07-13 10:05:38|2021-07-13 10:05:46|               null|               null|               null|                Fire|2021-07-13 10:10:08|0 Block of FRANKL...|San Francisco|  94102|      B02|         36|3212|               3|       3|            3|  false|               Alarm|        1|   TRUCK|                         3|                     2|                 5|          Hayes Valley|  211941035-T05|POINT (-122.42074...|                  9.0|\n",
      "| 220181030|   B10|      22008545|              Alarms|2022-01-18|2022-01-18|01/18/2022 10:09:...|2022-01-18 10:11:19|2022-01-18 10:11:25|2022-01-18 10:12:14|               null|               null|               null|                Fire|2022-01-18 10:21:57|700 Block of FLOR...|San Francisco|  94110|      B06|         07|5451|               3|       3|            3|  false|               Alarm|        1|   CHIEF|                         2|                     6|                 9|               Mission|  220181030-B10|POINT (-122.41082...|                 20.0|\n",
      "| 222091290|   T10|      22096127|              Alarms|2022-07-28|2022-07-28|07/28/2022 11:47:...|2022-07-28 11:49:52|2022-07-28 11:50:13|2022-07-28 11:51:44|               null|               null|               null|                Fire|2022-07-28 11:56:01|300 Block of MASO...|San Francisco|  94118|      B05|         21|4462|               3|       3|            3|  false|               Alarm|        1|   TRUCK|                         3|                     5|                 5|     Lone Mountain/USF|  222091290-T10|POINT (-122.44687...|                 18.0|\n",
      "| 222091252| SCRT3|      22096119|               Other|2022-07-28|2022-07-28|07/28/2022 11:39:...|2022-07-28 11:39:25|2022-07-28 11:39:50|               null|               null|               null|               null|           Cancelled|2022-07-28 11:40:38|900 Block of MARK...|San Francisco|  94103|      B01|         01|2247|               A|       1|            2|  false|                null|        1| SUPPORT|                         1|                     3|                 6|       South of Market|222091252-SCRT3|POINT (-122.40842...|                 34.0|\n",
      "+----------+------+--------------+--------------------+----------+----------+--------------------+-------------------+-------------------+-------------------+-------------------+-------------------+-------------------+--------------------+-------------------+--------------------+-------------+-------+---------+-----------+----+----------------+--------+-------------+-------+--------------------+---------+--------+--------------------------+----------------------+------------------+----------------------+---------------+--------------------+---------------------+\n",
      "only showing top 20 rows\n",
      "\n"
     ]
    }
   ],
   "source": [
    "hscroll()\n",
    "fire_df.show()"
   ]
  },
  {
   "cell_type": "code",
   "execution_count": 8,
   "metadata": {},
   "outputs": [
    {
     "name": "stderr",
     "output_type": "stream",
     "text": [
      "                                                                                \r"
     ]
    },
    {
     "data": {
      "text/plain": [
       "100000"
      ]
     },
     "execution_count": 8,
     "metadata": {},
     "output_type": "execute_result"
    }
   ],
   "source": [
    "fire_df.count()"
   ]
  },
  {
   "cell_type": "code",
   "execution_count": 9,
   "metadata": {},
   "outputs": [],
   "source": [
    "# Translate a column from string to date\n",
    "from pyspark.sql.functions import to_date, to_timestamp, col\n",
    "fire_df = fire_df.withColumn(\"ReceivedDate\", to_timestamp(col(\"ReceivedDate\"),\"MM/dd/yyyy hh:mm:ss a\"))"
   ]
  },
  {
   "cell_type": "code",
   "execution_count": 10,
   "metadata": {},
   "outputs": [
    {
     "name": "stdout",
     "output_type": "stream",
     "text": [
      "+----------+------+--------------+--------------------+----------+----------+-------------------+-------------------+-------------------+-------------------+-------------------+-------------------+-------------------+--------------------+-------------------+--------------------+-------------+-------+---------+-----------+----+----------------+--------+-------------+-------+--------------------+---------+--------+--------------------------+----------------------+------------------+----------------------+---------------+--------------------+---------------------+\n",
      "|CallNumber|UnitID|IncidentNumber|            CallType|  CallDate| WatchDate|       ReceivedDate|          EntryDate|       DispatchDate|       ResponseDate|          SceneDate|      TransportDate|       HospitalDate|CallFinalDisposition|      AvailableDtTm|             Address|         City|Zipcode|Battalion|StationArea| Box|OriginalPriority|Priority|FinalPriority|ALSUnit|       CallTypeGroup|NumAlarms|UnitType|UnitSequenceInCallDispatch|FirePreventionDistrict|SupervisorDistrict|NeighborhoodBoundaries|          RowID|            Location|AnalysisNeighborhoods|\n",
      "+----------+------+--------------+--------------------+----------+----------+-------------------+-------------------+-------------------+-------------------+-------------------+-------------------+-------------------+--------------------+-------------------+--------------------+-------------+-------+---------+-----------+----+----------------+--------+-------------+-------+--------------------+---------+--------+--------------------------+----------------------+------------------+----------------------+---------------+--------------------+---------------------+\n",
      "| 221210313|   E36|      22054955|        Outside Fire|2022-05-01|2022-04-30|2022-05-01 02:58:25|2022-05-01 02:59:15|2022-05-01 02:59:25|2022-05-01 03:01:06|2022-05-01 03:02:27|               null|               null|                Fire|2022-05-01 03:05:00|   GOUGH ST/GROVE ST|San Francisco|  94102|      B02|         36|3265|               3|       3|            3|   true|                Fire|        1|  ENGINE|                         1|                     2|                 5|          Hayes Valley|  221210313-E36|POINT (-122.42316...|                  9.0|\n",
      "| 220190150|   E29|      22008871|              Alarms|2022-01-19|2022-01-18|2022-01-19 01:42:12|2022-01-19 01:44:13|2022-01-19 01:44:28|2022-01-19 01:46:47|2022-01-19 01:49:32|               null|               null|                Fire|2022-01-19 02:35:26|100 Block of MISS...|San Francisco|  94107|      B03|         29|2431|               3|       3|            3|   true|               Alarm|        1|  ENGINE|                         1|                     3|                10|          Potrero Hill|  220190150-E29|POINT (-122.39469...|                 26.0|\n",
      "| 211233271|   T07|      21053032|              Alarms|2021-05-03|2021-05-03|2021-05-03 21:28:12|2021-05-03 21:28:12|2021-05-03 21:28:17|2021-05-03 21:29:10|2021-05-03 21:32:15|               null|               null|                Fire|2021-05-03 21:38:09|  0 Block of HOFF ST|San Francisco|  94110|      B02|         07|5236|               A|       3|            3|  false|               Alarm|        1|   TRUCK|                         2|                     2|                 9|               Mission|  211233271-T07|POINT (-122.42057...|                 20.0|\n",
      "| 212933533|   B02|      21127914|              Alarms|2021-10-20|2021-10-20|2021-10-20 22:08:47|2021-10-20 22:09:53|2021-10-20 22:10:07|2021-10-20 22:11:55|               null|               null|               null|                Fire|2021-10-20 22:25:52|200 Block of JONE...|San Francisco|  94102|      B03|         03|1456|               3|       3|            3|  false|               Alarm|        1|   CHIEF|                         3|                     3|                 6|            Tenderloin|  212933533-B02|POINT (-122.41243...|                 36.0|\n",
      "| 221202543|   E41|      22054815|              Alarms|2022-04-30|2022-04-30|2022-04-30 18:35:58|2022-04-30 18:37:28|2022-04-30 18:37:43|2022-04-30 18:38:17|               null|               null|               null|                Fire|2022-04-30 18:40:08|1400 Block of FIL...|San Francisco|  94109|      B04|         16|3146|               3|       3|            3|  false|               Alarm|        1|  ENGINE|                         4|                     4|                 2|          Russian Hill|  221202543-E41|POINT (-122.42333...|                 32.0|\n",
      "| 211232439|   B01|      21052945|              Alarms|2021-05-03|2021-05-03|2021-05-03 16:57:21|2021-05-03 16:58:39|2021-05-03 16:58:44|2021-05-03 17:00:27|               null|               null|               null|                Fire|2021-05-03 17:05:20|500 Block of JONE...|San Francisco|  94102|      B01|         03|1462|               3|       3|            3|  false|               Alarm|        1|   CHIEF|                         2|                     1|                 6|            Tenderloin|  211232439-B01|POINT (-122.41299...|                 36.0|\n",
      "| 211942517|   T03|      21083057|              Alarms|2021-07-13|2021-07-13|2021-07-13 16:50:10|2021-07-13 16:51:07|2021-07-13 16:51:17|               null|               null|               null|               null|                Fire|2021-07-13 16:54:45|900 Block of VAN ...|San Francisco|  94109|      B04|         03|3162|               3|       3|            3|  false|               Alarm|        1|   TRUCK|                         3|                     2|                 6|            Tenderloin|  211942517-T03|POINT (-122.42090...|                 36.0|\n",
      "| 212932758|   B01|      21127810|              Alarms|2021-10-20|2021-10-20|2021-10-20 17:46:09|2021-10-20 17:47:57|2021-10-20 17:48:05|2021-10-20 17:49:54|2021-10-20 17:53:45|               null|               null|                Fire|2021-10-20 18:00:04| 0 Block of BEACH ST|San Francisco|  94133|      B01|         28|0939|               3|       3|            3|  false|               Alarm|        1|   CHIEF|                         2|                     1|                 3|           North Beach|  212932758-B01|POINT (-122.40987...|                 23.0|\n",
      "| 221201816|   T03|      22054719|      Structure Fire|2022-04-30|2022-04-30|2022-04-30 14:27:39|2022-04-30 14:28:53|2022-04-30 14:29:13|2022-04-30 14:31:58|2022-04-30 14:31:58|               null|               null|                Fire|2022-04-30 14:46:15|   MISSION ST/9TH ST|San Francisco|  94103|      B02|         36|2336|               3|       3|            3|  false|               Alarm|        1|   TRUCK|                         3|                     2|                 6|       South of Market|  221201816-T03|POINT (-122.41471...|                 34.0|\n",
      "| 211941580| SCRT4|      21082970|    Medical Incident|2021-07-13|2021-07-13|2021-07-13 12:23:31|2021-07-13 12:28:02|2021-07-13 12:47:21|2021-07-13 12:47:21|               null|               null|               null|                SFPD|2021-07-13 12:48:46|100 Block of VICE...|San Francisco|  94127|      B08|         39|8612|               1|       1|            2|  false|Non Life-threatening|        1| SUPPORT|                         1|                     8|                 7|    West of Twin Peaks|211941580-SCRT4|POINT (-122.46750...|                 41.0|\n",
      "| 220181779|    50|      22008631|               Other|2022-01-18|2022-01-18|2022-01-18 13:38:10|2022-01-18 13:38:47|2022-01-18 13:59:04|2022-01-18 13:59:04|2022-01-18 13:59:04|               null|               null|                Fire|2022-01-18 15:55:14|    17-TH DE HARO ST|San Francisco|  94103|      B03|         29|2355|               2|       2|            2|   true|Non Life-threatening|        1|   MEDIC|                         1|                   3.0|                10|           Mission Bay|   220181779-50|POINT (-122.40113...|                  4.0|\n",
      "| 220111608|   E06|      22005327|              Alarms|2022-01-11|2022-01-11|2022-01-11 13:05:54|2022-01-11 13:07:03|2022-01-11 13:07:09|2022-01-11 13:08:15|2022-01-11 13:09:19|               null|               null|                Fire|2022-01-11 13:16:05|0 Block of SANCHE...|San Francisco|  94114|      B05|         06|5131|               3|       3|            3|   true|               Alarm|        1|  ENGINE|                         1|                     2|                 8|   Castro/Upper Market|  220111608-E06|POINT (-122.43120...|                  5.0|\n",
      "| 220111597| AM110|      22005326|    Medical Incident|2022-01-11|2022-01-11|2022-01-11 12:59:13|2022-01-11 13:02:48|2022-01-11 13:03:30|2022-01-11 13:03:48|2022-01-11 13:11:24|2022-01-11 14:04:39|2022-01-11 14:52:05|    Code 2 Transport|2022-01-11 15:36:28|100 Block of ADDI...|San Francisco|  94131|      B06|         26|8122|               2|       2|            2|  false|Potentially Life-...|        1| PRIVATE|                         1|                     6|                 8|             Glen Park|220111597-AM110|POINT (-122.43239...|                 10.0|\n",
      "| 220111595|   E07|      22005325|        Outside Fire|2022-01-11|2022-01-11|2022-01-11 13:01:47|2022-01-11 13:01:47|2022-01-11 13:02:38|2022-01-11 13:03:25|2022-01-11 13:05:37|               null|               null|                Fire|2022-01-11 13:07:41|  FLORIDA ST/15TH ST|San Francisco|  94103|      B02|         29|5221|               A|       3|            3|   true|                Fire|        1|  ENGINE|                         1|                     2|                 9|               Mission|  220111595-E07|POINT (-122.41158...|                 20.0|\n",
      "| 220181524|   E08|      22008605|              Alarms|2022-01-18|2022-01-18|2022-01-18 12:19:21|2022-01-18 12:22:54|2022-01-18 12:23:05|2022-01-18 12:23:12|2022-01-18 12:24:41|               null|               null|                Fire|2022-01-18 12:27:19|600 Block of BRYA...|San Francisco|  94107|      B03|         08|2242|               3|       3|            3|   true|               Alarm|        1|  ENGINE|                         2|                   3.0|                 6|       South of Market|  220181524-E08|POINT (-122.39917...|                 34.0|\n",
      "| 221201435|   E41|      22054664|        Outside Fire|2022-04-30|2022-04-30|2022-04-30 12:32:37|2022-04-30 12:34:09|2022-04-30 12:34:15|2022-04-30 12:35:20|2022-04-30 12:37:21|               null|               null|                Fire|2022-04-30 12:41:42|  LARKIN ST/GREEN ST|San Francisco|  94109|      B01|         41|1631|               3|       3|            3|  false|                Fire|        1|  ENGINE|                         1|                     1|                 3|          Russian Hill|  221201435-E41|POINT (-122.42050...|                 32.0|\n",
      "| 211941035|   T05|      21082896|Citizen Assist / ...|2021-07-13|2021-07-13|2021-07-13 10:00:30|2021-07-13 10:01:59|2021-07-13 10:05:38|2021-07-13 10:05:46|               null|               null|               null|                Fire|2021-07-13 10:10:08|0 Block of FRANKL...|San Francisco|  94102|      B02|         36|3212|               3|       3|            3|  false|               Alarm|        1|   TRUCK|                         3|                     2|                 5|          Hayes Valley|  211941035-T05|POINT (-122.42074...|                  9.0|\n",
      "| 220181030|   B10|      22008545|              Alarms|2022-01-18|2022-01-18|2022-01-18 10:09:29|2022-01-18 10:11:19|2022-01-18 10:11:25|2022-01-18 10:12:14|               null|               null|               null|                Fire|2022-01-18 10:21:57|700 Block of FLOR...|San Francisco|  94110|      B06|         07|5451|               3|       3|            3|  false|               Alarm|        1|   CHIEF|                         2|                     6|                 9|               Mission|  220181030-B10|POINT (-122.41082...|                 20.0|\n",
      "| 222091290|   T10|      22096127|              Alarms|2022-07-28|2022-07-28|2022-07-28 11:47:47|2022-07-28 11:49:52|2022-07-28 11:50:13|2022-07-28 11:51:44|               null|               null|               null|                Fire|2022-07-28 11:56:01|300 Block of MASO...|San Francisco|  94118|      B05|         21|4462|               3|       3|            3|  false|               Alarm|        1|   TRUCK|                         3|                     5|                 5|     Lone Mountain/USF|  222091290-T10|POINT (-122.44687...|                 18.0|\n",
      "| 222091252| SCRT3|      22096119|               Other|2022-07-28|2022-07-28|2022-07-28 11:39:25|2022-07-28 11:39:25|2022-07-28 11:39:50|               null|               null|               null|               null|           Cancelled|2022-07-28 11:40:38|900 Block of MARK...|San Francisco|  94103|      B01|         01|2247|               A|       1|            2|  false|                null|        1| SUPPORT|                         1|                     3|                 6|       South of Market|222091252-SCRT3|POINT (-122.40842...|                 34.0|\n",
      "+----------+------+--------------+--------------------+----------+----------+-------------------+-------------------+-------------------+-------------------+-------------------+-------------------+-------------------+--------------------+-------------------+--------------------+-------------+-------+---------+-----------+----+----------------+--------+-------------+-------+--------------------+---------+--------+--------------------------+----------------------+------------------+----------------------+---------------+--------------------+---------------------+\n",
      "only showing top 20 rows\n",
      "\n"
     ]
    },
    {
     "name": "stderr",
     "output_type": "stream",
     "text": [
      "22/12/20 20:40:24 WARN CSVHeaderChecker: CSV header does not conform to the schema.\n",
      " Header: Call Number, Unit ID, Incident Number, Call Type, Call Date, Watch Date, Received DtTm, Entry DtTm, Dispatch DtTm, Response DtTm, On Scene DtTm, Transport DtTm, Hospital DtTm, Call Final Disposition, Available DtTm, Address, City, Zipcode of Incident, Battalion, Station Area, Box, Original Priority, Priority, Final Priority, ALS Unit, Call Type Group, Number of Alarms, Unit Type, Unit sequence in call dispatch, Fire Prevention District, Supervisor District, Neighborhooods - Analysis Boundaries, RowID, case_location, Analysis Neighborhoods\n",
      " Schema: CallNumber, UnitID, IncidentNumber, CallType, CallDate, WatchDate, ReceivedDate, EntryDate, DispatchDate, ResponseDate, SceneDate, TransportDate, HospitalDate, CallFinalDisposition, AvailableDtTm, Address, City, Zipcode, Battalion, StationArea, Box, OriginalPriority, Priority, FinalPriority, ALSUnit, CallTypeGroup, NumAlarms, UnitType, UnitSequenceInCallDispatch, FirePreventionDistrict, SupervisorDistrict, NeighborhoodBoundaries, RowID, Location, AnalysisNeighborhoods\n",
      "Expected: CallNumber but found: Call Number\n",
      "CSV file: file:///opt/spark/notebooks/data/Fire_Department_Calls_for_Service_100K.csv\n"
     ]
    }
   ],
   "source": [
    "fire_df.show()"
   ]
  },
  {
   "cell_type": "code",
   "execution_count": 11,
   "metadata": {},
   "outputs": [
    {
     "name": "stderr",
     "output_type": "stream",
     "text": [
      "22/12/20 20:40:33 WARN CSVHeaderChecker: CSV header does not conform to the schema.\n",
      " Header: Incident Number, Call Type, Available DtTm\n",
      " Schema: IncidentNumber, CallType, AvailableDtTm\n",
      "Expected: IncidentNumber but found: Incident Number\n",
      "CSV file: file:///opt/spark/notebooks/data/Fire_Department_Calls_for_Service_100K.csv\n"
     ]
    },
    {
     "name": "stdout",
     "output_type": "stream",
     "text": [
      "+--------------+-------------------+------------+\n",
      "|IncidentNumber|AvailableDtTm      |CallType    |\n",
      "+--------------+-------------------+------------+\n",
      "|22054955      |2022-05-01 03:05:00|Outside Fire|\n",
      "|22008871      |2022-01-19 02:35:26|Alarms      |\n",
      "|21053032      |2021-05-03 21:38:09|Alarms      |\n",
      "|21127914      |2021-10-20 22:25:52|Alarms      |\n",
      "|22054815      |2022-04-30 18:40:08|Alarms      |\n",
      "+--------------+-------------------+------------+\n",
      "only showing top 5 rows\n",
      "\n"
     ]
    },
    {
     "name": "stderr",
     "output_type": "stream",
     "text": [
      "22/12/20 20:40:33 WARN CSVHeaderChecker: CSV header does not conform to the schema.\n",
      " Header: Call Type\n",
      " Schema: CallType\n",
      "Expected: CallType but found: Call Type\n",
      "CSV file: file:///opt/spark/notebooks/data/Fire_Department_Calls_for_Service_100K.csv\n",
      "                                                                                \r"
     ]
    },
    {
     "data": {
      "text/plain": [
       "32437"
      ]
     },
     "execution_count": 11,
     "metadata": {},
     "output_type": "execute_result"
    }
   ],
   "source": [
    "# Projections and Filters\n",
    "\n",
    "few_fire_df = (\n",
    "    fire_df\n",
    "    .select(\"IncidentNumber\", \"AvailableDtTm\", \"CallType\")\n",
    "    .where(col(\"CallType\") != \"Medical Incident\")\n",
    ")\n",
    "\n",
    "few_fire_df.show(5, truncate=False)\n",
    "few_fire_df.count()"
   ]
  },
  {
   "cell_type": "code",
   "execution_count": null,
   "metadata": {},
   "outputs": [],
   "source": []
  },
  {
   "cell_type": "code",
   "execution_count": 12,
   "metadata": {},
   "outputs": [
    {
     "data": {
      "text/plain": [
       "'{\"fields\":[{\"metadata\":{},\"name\":\"CallNumber\",\"nullable\":true,\"type\":\"integer\"},{\"metadata\":{},\"name\":\"UnitID\",\"nullable\":true,\"type\":\"string\"},{\"metadata\":{},\"name\":\"IncidentNumber\",\"nullable\":true,\"type\":\"integer\"},{\"metadata\":{},\"name\":\"CallType\",\"nullable\":true,\"type\":\"string\"},{\"metadata\":{},\"name\":\"CallDate\",\"nullable\":true,\"type\":\"date\"},{\"metadata\":{},\"name\":\"WatchDate\",\"nullable\":true,\"type\":\"date\"},{\"metadata\":{},\"name\":\"ReceivedDate\",\"nullable\":true,\"type\":\"timestamp\"},{\"metadata\":{},\"name\":\"EntryDate\",\"nullable\":true,\"type\":\"timestamp\"},{\"metadata\":{},\"name\":\"DispatchDate\",\"nullable\":true,\"type\":\"timestamp\"},{\"metadata\":{},\"name\":\"ResponseDate\",\"nullable\":true,\"type\":\"timestamp\"},{\"metadata\":{},\"name\":\"SceneDate\",\"nullable\":true,\"type\":\"timestamp\"},{\"metadata\":{},\"name\":\"TransportDate\",\"nullable\":true,\"type\":\"timestamp\"},{\"metadata\":{},\"name\":\"HospitalDate\",\"nullable\":true,\"type\":\"timestamp\"},{\"metadata\":{},\"name\":\"CallFinalDisposition\",\"nullable\":true,\"type\":\"string\"},{\"metadata\":{},\"name\":\"AvailableDtTm\",\"nullable\":true,\"type\":\"timestamp\"},{\"metadata\":{},\"name\":\"Address\",\"nullable\":true,\"type\":\"string\"},{\"metadata\":{},\"name\":\"City\",\"nullable\":true,\"type\":\"string\"},{\"metadata\":{},\"name\":\"Zipcode\",\"nullable\":true,\"type\":\"integer\"},{\"metadata\":{},\"name\":\"Battalion\",\"nullable\":true,\"type\":\"string\"},{\"metadata\":{},\"name\":\"StationArea\",\"nullable\":true,\"type\":\"string\"},{\"metadata\":{},\"name\":\"Box\",\"nullable\":true,\"type\":\"string\"},{\"metadata\":{},\"name\":\"OriginalPriority\",\"nullable\":true,\"type\":\"string\"},{\"metadata\":{},\"name\":\"Priority\",\"nullable\":true,\"type\":\"string\"},{\"metadata\":{},\"name\":\"FinalPriority\",\"nullable\":true,\"type\":\"integer\"},{\"metadata\":{},\"name\":\"ALSUnit\",\"nullable\":true,\"type\":\"boolean\"},{\"metadata\":{},\"name\":\"CallTypeGroup\",\"nullable\":true,\"type\":\"string\"},{\"metadata\":{},\"name\":\"NumAlarms\",\"nullable\":true,\"type\":\"integer\"},{\"metadata\":{},\"name\":\"UnitType\",\"nullable\":true,\"type\":\"string\"},{\"metadata\":{},\"name\":\"UnitSequenceInCallDispatch\",\"nullable\":true,\"type\":\"integer\"},{\"metadata\":{},\"name\":\"FirePreventionDistrict\",\"nullable\":true,\"type\":\"string\"},{\"metadata\":{},\"name\":\"SupervisorDistrict\",\"nullable\":true,\"type\":\"string\"},{\"metadata\":{},\"name\":\"NeighborhoodBoundaries\",\"nullable\":true,\"type\":\"string\"},{\"metadata\":{},\"name\":\"RowID\",\"nullable\":true,\"type\":\"string\"},{\"metadata\":{},\"name\":\"Location\",\"nullable\":true,\"type\":\"string\"},{\"metadata\":{},\"name\":\"AnalysisNeighborhoods\",\"nullable\":true,\"type\":\"float\"}],\"type\":\"struct\"}'"
      ]
     },
     "execution_count": 12,
     "metadata": {},
     "output_type": "execute_result"
    }
   ],
   "source": [
    "# Show the schema of a dataframe\n",
    "fire_df.schema.json()"
   ]
  },
  {
   "cell_type": "code",
   "execution_count": 13,
   "metadata": {},
   "outputs": [
    {
     "name": "stderr",
     "output_type": "stream",
     "text": [
      "22/12/20 20:40:53 WARN CSVHeaderChecker: CSV header does not conform to the schema.\n",
      " Header: Call Type\n",
      " Schema: CallType\n",
      "Expected: CallType but found: Call Type\n",
      "CSV file: file:///opt/spark/notebooks/data/Fire_Department_Calls_for_Service_100K.csv\n",
      "[Stage 8:===================================================>   (186 + 2) / 200]\r"
     ]
    },
    {
     "name": "stdout",
     "output_type": "stream",
     "text": [
      "+----------------+\n",
      "|DistinctCallType|\n",
      "+----------------+\n",
      "|              30|\n",
      "+----------------+\n",
      "\n"
     ]
    },
    {
     "name": "stderr",
     "output_type": "stream",
     "text": [
      "\r",
      "                                                                                \r"
     ]
    }
   ],
   "source": [
    "# Distinct count aggregation\n",
    "\n",
    "from pyspark.sql.functions import countDistinct\n",
    "\n",
    "(\n",
    "    fire_df\n",
    "    .select(\"CallType\")\n",
    "    .where(col(\"CallType\").isNotNull())\n",
    "    .agg(countDistinct(\"CallType\").alias(\"DistinctCallType\"))\n",
    "    .show()\n",
    ")"
   ]
  },
  {
   "cell_type": "code",
   "execution_count": 14,
   "metadata": {},
   "outputs": [
    {
     "name": "stderr",
     "output_type": "stream",
     "text": [
      "22/12/20 20:41:02 WARN CSVHeaderChecker: CSV header does not conform to the schema.\n",
      " Header: Call Type\n",
      " Schema: CallType\n",
      "Expected: CallType but found: Call Type\n",
      "CSV file: file:///opt/spark/notebooks/data/Fire_Department_Calls_for_Service_100K.csv\n",
      "                                                                                \r"
     ]
    },
    {
     "name": "stdout",
     "output_type": "stream",
     "text": [
      "+--------------------------------------------+\n",
      "|CallType                                    |\n",
      "+--------------------------------------------+\n",
      "|Administrative                              |\n",
      "|Alarms                                      |\n",
      "|Assist Police                               |\n",
      "|Citizen Assist / Service Call               |\n",
      "|Confined Space / Structure Collapse         |\n",
      "|Electrical Hazard                           |\n",
      "|Elevator / Escalator Rescue                 |\n",
      "|Explosion                                   |\n",
      "|Extrication / Entrapped (Machinery, Vehicle)|\n",
      "|Fuel Spill                                  |\n",
      "|Gas Leak (Natural and LP Gases)             |\n",
      "|HazMat                                      |\n",
      "|High Angle Rescue                           |\n",
      "|Industrial Accidents                        |\n",
      "|Marine Fire                                 |\n",
      "|Medical Incident                            |\n",
      "|Mutual Aid / Assist Outside Agency          |\n",
      "|Odor (Strange / Unknown)                    |\n",
      "|Oil Spill                                   |\n",
      "|Other                                       |\n",
      "|Outside Fire                                |\n",
      "|Smoke Investigation (Outside)               |\n",
      "|Structure Fire                              |\n",
      "|Suspicious Package                          |\n",
      "|Traffic Collision                           |\n",
      "|Train / Rail Fire                           |\n",
      "|Train / Rail Incident                       |\n",
      "|Vehicle Fire                                |\n",
      "|Water Rescue                                |\n",
      "|Watercraft in Distress                      |\n",
      "+--------------------------------------------+\n",
      "\n"
     ]
    }
   ],
   "source": [
    "# Just show distinct values, sorted\n",
    "\n",
    "(\n",
    "    fire_df\n",
    "    .select(\"CallType\")\n",
    "    .where(col(\"CallType\").isNotNull())\n",
    "    .distinct()\n",
    "    .sort(\"CallType\")\n",
    "    .show(100, truncate=False)\n",
    ")"
   ]
  },
  {
   "cell_type": "code",
   "execution_count": 15,
   "metadata": {},
   "outputs": [
    {
     "name": "stderr",
     "output_type": "stream",
     "text": [
      "22/12/20 20:41:11 WARN CSVHeaderChecker: CSV header does not conform to the schema.\n",
      " Header: Call Date\n",
      " Schema: CallDate\n",
      "Expected: CallDate but found: Call Date\n",
      "CSV file: file:///opt/spark/notebooks/data/Fire_Department_Calls_for_Service_100K.csv\n",
      "[Stage 13:==================================================>   (186 + 2) / 200]\r"
     ]
    },
    {
     "name": "stdout",
     "output_type": "stream",
     "text": [
      "+------------+\n",
      "|IncidentYear|\n",
      "+------------+\n",
      "|        2001|\n",
      "|        2004|\n",
      "|        2005|\n",
      "|        2008|\n",
      "|        2009|\n",
      "|        2010|\n",
      "|        2018|\n",
      "|        2020|\n",
      "|        2021|\n",
      "|        2022|\n",
      "+------------+\n",
      "\n"
     ]
    },
    {
     "name": "stderr",
     "output_type": "stream",
     "text": [
      "\r",
      "                                                                                \r"
     ]
    }
   ],
   "source": [
    "## Use year function, rename column, perform distinct and sort\n",
    "\n",
    "from pyspark.sql.functions import year\n",
    "\n",
    "(\n",
    "    fire_df\n",
    "        .withColumnRenamed(\"CallDate\", \"IncidentDate\")\n",
    "        .select(year(\"IncidentDate\").alias(\"IncidentYear\"))\n",
    "        .distinct()\n",
    "        .orderBy(\"IncidentYear\")\n",
    "        .show()\n",
    ")"
   ]
  },
  {
   "cell_type": "code",
   "execution_count": 16,
   "metadata": {},
   "outputs": [
    {
     "name": "stderr",
     "output_type": "stream",
     "text": [
      "22/12/20 20:41:17 WARN CSVHeaderChecker: CSV header does not conform to the schema.\n",
      " Header: Call Type\n",
      " Schema: CallType\n",
      "Expected: CallType but found: Call Type\n",
      "CSV file: file:///opt/spark/notebooks/data/Fire_Department_Calls_for_Service_100K.csv\n",
      "[Stage 15:==============================================>       (174 + 3) / 200]\r"
     ]
    },
    {
     "name": "stdout",
     "output_type": "stream",
     "text": [
      "+--------------------------------------------+-----+\n",
      "|CallType                                    |count|\n",
      "+--------------------------------------------+-----+\n",
      "|Marine Fire                                 |1    |\n",
      "|Train / Rail Incident                       |1    |\n",
      "|Oil Spill                                   |2    |\n",
      "|Mutual Aid / Assist Outside Agency          |3    |\n",
      "|Suspicious Package                          |3    |\n",
      "|Confined Space / Structure Collapse         |6    |\n",
      "|Train / Rail Fire                           |7    |\n",
      "|Administrative                              |7    |\n",
      "|HazMat                                      |14   |\n",
      "|Extrication / Entrapped (Machinery, Vehicle)|21   |\n",
      "+--------------------------------------------+-----+\n",
      "only showing top 10 rows\n",
      "\n"
     ]
    },
    {
     "name": "stderr",
     "output_type": "stream",
     "text": [
      "\r",
      "                                                                                \r"
     ]
    }
   ],
   "source": [
    "# Group By Count\n",
    "\n",
    "(\n",
    "    fire_df\n",
    "    .select(\"CallType\")\n",
    "    .where(col(\"CallType\").isNotNull())\n",
    "    .groupBy(\"CallType\")\n",
    "    .count()\n",
    "    .orderBy(\"count\", asciiending=False)\n",
    "    .show(n=10, truncate=False)\n",
    ")"
   ]
  },
  {
   "cell_type": "code",
   "execution_count": 17,
   "metadata": {},
   "outputs": [
    {
     "name": "stderr",
     "output_type": "stream",
     "text": [
      "22/12/20 20:41:24 WARN CSVHeaderChecker: CSV header does not conform to the schema.\n",
      " Header: Call Date, Dispatch DtTm, Number of Alarms\n",
      " Schema: CallDate, DispatchDate, NumAlarms\n",
      "Expected: CallDate but found: Call Date\n",
      "CSV file: file:///opt/spark/notebooks/data/Fire_Department_Calls_for_Service_100K.csv\n",
      "[Stage 16:>                                                         (0 + 2) / 2]\r"
     ]
    },
    {
     "name": "stdout",
     "output_type": "stream",
     "text": [
      "+--------------+---------------------------+---------------------------+---------------------------+\n",
      "|sum(NumAlarms)|avg(ResponseDelayedMinutes)|min(ResponseDelayedMinutes)|max(ResponseDelayedMinutes)|\n",
      "+--------------+---------------------------+---------------------------+---------------------------+\n",
      "|100269        |807.1473806666676          |0.1                        |1525.7666666666667         |\n",
      "+--------------+---------------------------+---------------------------+---------------------------+\n",
      "\n"
     ]
    },
    {
     "name": "stderr",
     "output_type": "stream",
     "text": [
      "\r",
      "                                                                                \r"
     ]
    }
   ],
   "source": [
    "# Use aggregation functions\n",
    "\n",
    "import pyspark.sql.functions as F\n",
    "from pyspark.sql.functions import unix_timestamp\n",
    "\n",
    "(\n",
    "    fire_df\n",
    "    .withColumn(\"ResponseDelayedMinutes\", (unix_timestamp(col(\"DispatchDate\")) - unix_timestamp(col(\"CallDate\")))/60)\n",
    "    .select(\n",
    "        F.sum(\"NumAlarms\"),\n",
    "        F.avg(\"ResponseDelayedMinutes\"),\n",
    "        F.min(\"ResponseDelayedMinutes\"),\n",
    "        F.max(\"ResponseDelayedMinutes\")\n",
    "    )\n",
    "    .show(n=100, truncate=False)\n",
    ")"
   ]
  },
  {
   "cell_type": "code",
   "execution_count": 18,
   "metadata": {},
   "outputs": [
    {
     "name": "stderr",
     "output_type": "stream",
     "text": [
      "22/12/20 20:41:29 WARN CSVHeaderChecker: CSV header does not conform to the schema.\n",
      " Header: Call Type, Call Date, Dispatch DtTm, Number of Alarms\n",
      " Schema: CallType, CallDate, DispatchDate, NumAlarms\n",
      "Expected: CallType but found: Call Type\n",
      "CSV file: file:///opt/spark/notebooks/data/Fire_Department_Calls_for_Service_100K.csv\n",
      "                                                                                \r"
     ]
    },
    {
     "name": "stdout",
     "output_type": "stream",
     "text": [
      "+--------------------------------------------+--------------+---------------------------+---------------------------+---------------------------+\n",
      "|CallType                                    |sum(NumAlarms)|avg(ResponseDelayedMinutes)|min(ResponseDelayedMinutes)|max(ResponseDelayedMinutes)|\n",
      "+--------------------------------------------+--------------+---------------------------+---------------------------+---------------------------+\n",
      "|Elevator / Escalator Rescue                 |269           |869.4080545229249          |7.033333333333333          |1433.6                     |\n",
      "|Marine Fire                                 |1             |1167.5833333333333         |1167.5833333333333         |1167.5833333333333         |\n",
      "|Confined Space / Structure Collapse         |6             |1263.95                    |1263.95                    |1263.95                    |\n",
      "|Administrative                              |7             |834.5095238095239          |210.68333333333334         |1113.4                     |\n",
      "|Alarms                                      |12811         |791.1624190149067          |2.7333333333333334         |1441.4166666666667         |\n",
      "|Odor (Strange / Unknown)                    |85            |928.8231372549022          |9.366666666666667          |1422.5666666666666         |\n",
      "|Citizen Assist / Service Call               |1476          |774.7295280036129          |1.5833333333333333         |1465.8666666666666         |\n",
      "|HazMat                                      |14            |905.3761904761906          |474.85                     |1235.5166666666667         |\n",
      "|Watercraft in Distress                      |36            |828.6305555555557          |660.3333333333334          |1083.2833333333333         |\n",
      "|Explosion                                   |27            |765.5172839506174          |137.7                      |1424.1333333333334         |\n",
      "|Oil Spill                                   |2             |839.6583333333333          |278.35                     |1400.9666666666667         |\n",
      "|Vehicle Fire                                |417           |756.7806554756197          |2.6666666666666665         |1430.95                    |\n",
      "|Suspicious Package                          |3             |1123.5                     |1123.5                     |1123.5                     |\n",
      "|Train / Rail Fire                           |7             |1423.9833333333336         |1423.7                     |1425.6833333333334         |\n",
      "|Extrication / Entrapped (Machinery, Vehicle)|21            |717.906349206349           |193.06666666666666         |1428.4333333333334         |\n",
      "|Other                                       |2023          |748.9745427582804          |0.65                       |1524.3666666666666         |\n",
      "|Outside Fire                                |1957          |795.6157298586271          |3.7                        |1442.5333333333333         |\n",
      "|Traffic Collision                           |3749          |853.1347648261747          |2.783333333333333          |1441.85                    |\n",
      "|Assist Police                               |28            |881.5053571428572          |20.116666666666667         |1258.3166666666666         |\n",
      "|Gas Leak (Natural and LP Gases)             |733           |848.1810823101404          |26.95                      |1440.4                     |\n",
      "|Water Rescue                                |805           |879.68308488613            |188.65                     |1283.9333333333334         |\n",
      "|Electrical Hazard                           |540           |820.791820987654           |8.183333333333334          |1440.1333333333334         |\n",
      "|High Angle Rescue                           |27            |1036.7006172839506         |773.6333333333333          |1340.4833333333333         |\n",
      "|Structure Fire                              |7253          |826.3916380297815          |1.15                       |1467.9666666666667         |\n",
      "|Industrial Accidents                        |30            |751.4227777777778          |461.3333333333333          |994.1666666666666          |\n",
      "|Medical Incident                            |67563         |806.5868419105111          |0.1                        |1525.7666666666667         |\n",
      "|Mutual Aid / Assist Outside Agency          |3             |657.5222222222222          |527.7166666666667          |823.8166666666667          |\n",
      "|Fuel Spill                                  |100           |827.475                    |34.3                       |1359.5833333333333         |\n",
      "|Smoke Investigation (Outside)               |275           |829.8643636363639          |3.6                        |1413.2833333333333         |\n",
      "|Train / Rail Incident                       |1             |614.3166666666667          |614.3166666666667          |614.3166666666667          |\n",
      "+--------------------------------------------+--------------+---------------------------+---------------------------+---------------------------+\n",
      "\n"
     ]
    }
   ],
   "source": [
    "# Use aggregation functions with a groupBy\n",
    "\n",
    "import pyspark.sql.functions as F\n",
    "from pyspark.sql.functions import unix_timestamp\n",
    "\n",
    "(\n",
    "    fire_df\n",
    "    .withColumn(\"ResponseDelayedMinutes\", (unix_timestamp(col(\"DispatchDate\")) - unix_timestamp(col(\"CallDate\")))/60)\n",
    "    .groupBy(\"CallType\")\n",
    "    .agg(\n",
    "        F.sum(\"NumAlarms\"),\n",
    "        F.avg(\"ResponseDelayedMinutes\"),\n",
    "        F.min(\"ResponseDelayedMinutes\"),\n",
    "        F.max(\"ResponseDelayedMinutes\")\n",
    "    )\n",
    "    .show(n=100, truncate=False)\n",
    ")"
   ]
  },
  {
   "cell_type": "code",
   "execution_count": 20,
   "metadata": {},
   "outputs": [
    {
     "name": "stdout",
     "output_type": "stream",
     "text": [
      "+-------------+-----+\n",
      "|       Author|State|\n",
      "+-------------+-----+\n",
      "|Matei Zaharia|   CA|\n",
      "|  Reynold Xin|   CA|\n",
      "+-------------+-----+\n",
      "\n"
     ]
    }
   ],
   "source": [
    "# Use Row\n",
    "\n",
    "from pyspark.sql import Row\n",
    "\n",
    "authors_schema = StructType([\n",
    "\tStructField(\"Author\" , StringType(), False), \n",
    "\tStructField(\"State\", StringType(), False)])\n",
    "\n",
    "rows = [Row(\"Matei Zaharia\", \"CA\"), Row(\"Reynold Xin\", \"CA\")]\n",
    "authors_df = spark1.createDataFrame(rows, authors_schema)\n",
    "authors_df.show()\n"
   ]
  },
  {
   "cell_type": "code",
   "execution_count": 23,
   "metadata": {},
   "outputs": [
    {
     "name": "stdout",
     "output_type": "stream",
     "text": [
      "+---+---------+-------+-----------------+---------+-----+--------------------+\n",
      "| Id|    First|   Last|              Url|Published| Hits|           Campaigns|\n",
      "+---+---------+-------+-----------------+---------+-----+--------------------+\n",
      "|  1|    Jules|  Damji|https://tinyurl.1| 1/4/2016| 4535| [twitter, LinkedIn]|\n",
      "|  2|   Brooke|  Wenig|https://tinyurl.2| 5/5/2018| 8908| [twitter, LinkedIn]|\n",
      "|  3|    Denny|    Lee|https://tinyurl.3| 6/7/2019| 7659|[web, twitter, FB...|\n",
      "|  4|Tathagata|    Das|https://tinyurl.4|5/12/2018|10568|       [twitter, FB]|\n",
      "|  5|    Matei|Zaharia|https://tinyurl.5|5/14/2014|40578|[web, twitter, FB...|\n",
      "|  6|  Reynold|    Xin|https://tinyurl.6| 3/2/2015|25568| [twitter, LinkedIn]|\n",
      "+---+---------+-------+-----------------+---------+-----+--------------------+\n",
      "\n"
     ]
    }
   ],
   "source": [
    "## Using expr, Array of Strings\n",
    "\n",
    "from pyspark.sql.types import ArrayType\n",
    "\n",
    "blogs_schema = StructType([\n",
    "   StructField(\"Id\", IntegerType(), False),\n",
    "   StructField(\"First\", StringType(), False),\n",
    "   StructField(\"Last\", StringType(), False),\n",
    "   StructField(\"Url\", StringType(), False),\n",
    "   StructField(\"Published\", StringType(), False),\n",
    "   StructField(\"Hits\", IntegerType(), False),\n",
    "   StructField(\"Campaigns\", ArrayType(StringType()), False)])\n",
    "\n",
    "#create our data\n",
    "blogs_data = [[1, \"Jules\", \"Damji\", \"https://tinyurl.1\", \"1/4/2016\", 4535, [\"twitter\", \"LinkedIn\"]],\n",
    "       [2, \"Brooke\",\"Wenig\",\"https://tinyurl.2\", \"5/5/2018\", 8908, [\"twitter\", \"LinkedIn\"]],\n",
    "       [3, \"Denny\", \"Lee\", \"https://tinyurl.3\",\"6/7/2019\",7659, [\"web\", \"twitter\", \"FB\", \"LinkedIn\"]],\n",
    "       [4, \"Tathagata\", \"Das\",\"https://tinyurl.4\", \"5/12/2018\", 10568, [\"twitter\", \"FB\"]],\n",
    "       [5, \"Matei\",\"Zaharia\", \"https://tinyurl.5\", \"5/14/2014\", 40578, [\"web\", \"twitter\", \"FB\", \"LinkedIn\"]],\n",
    "       [6, \"Reynold\", \"Xin\", \"https://tinyurl.6\", \"3/2/2015\", 25568, [\"twitter\", \"LinkedIn\"]]\n",
    "      ]\n",
    "\n",
    "blogs_df = spark1.createDataFrame(blogs_data, blogs_schema)\n",
    "blogs_df.show()"
   ]
  },
  {
   "cell_type": "code",
   "execution_count": 27,
   "metadata": {},
   "outputs": [
    {
     "name": "stdout",
     "output_type": "stream",
     "text": [
      "+------+\n",
      "|HitsX2|\n",
      "+------+\n",
      "|  9070|\n",
      "| 17816|\n",
      "+------+\n",
      "only showing top 2 rows\n",
      "\n",
      "+------+\n",
      "|HitsX2|\n",
      "+------+\n",
      "|  9070|\n",
      "| 17816|\n",
      "+------+\n",
      "only showing top 2 rows\n",
      "\n",
      "+------+\n",
      "|HitsX2|\n",
      "+------+\n",
      "|  9070|\n",
      "| 17816|\n",
      "+------+\n",
      "only showing top 2 rows\n",
      "\n",
      "+---+---------+-------+-----------------+---------+-----+--------------------+-----------+\n",
      "| Id|    First|   Last|              Url|Published| Hits|           Campaigns|Big Hitters|\n",
      "+---+---------+-------+-----------------+---------+-----+--------------------+-----------+\n",
      "|  1|    Jules|  Damji|https://tinyurl.1| 1/4/2016| 4535| [twitter, LinkedIn]|      false|\n",
      "|  2|   Brooke|  Wenig|https://tinyurl.2| 5/5/2018| 8908| [twitter, LinkedIn]|      false|\n",
      "|  3|    Denny|    Lee|https://tinyurl.3| 6/7/2019| 7659|[web, twitter, FB...|      false|\n",
      "|  4|Tathagata|    Das|https://tinyurl.4|5/12/2018|10568|       [twitter, FB]|       true|\n",
      "|  5|    Matei|Zaharia|https://tinyurl.5|5/14/2014|40578|[web, twitter, FB...|       true|\n",
      "|  6|  Reynold|    Xin|https://tinyurl.6| 3/2/2015|25568| [twitter, LinkedIn]|       true|\n",
      "+---+---------+-------+-----------------+---------+-----+--------------------+-----------+\n",
      "\n",
      "StructType(List(StructField(Id,IntegerType,false),StructField(First,StringType,false),StructField(Last,StringType,false),StructField(Url,StringType,false),StructField(Published,StringType,false),StructField(Hits,IntegerType,false),StructField(Campaigns,ArrayType(StringType,true),false)))\n"
     ]
    }
   ],
   "source": [
    "from pyspark.sql.functions import expr\n",
    "\n",
    "blogs_df.select((expr(\"Hits\") * 2).alias(\"HitsX2\")).show(2)\n",
    "blogs_df.select((col(\"Hits\") * 2).alias(\"HitsX2\")).show(2)\n",
    "blogs_df.select(expr(\"Hits * 2\").alias(\"HitsX2\")).show(2)\n",
    "\n",
    "# show heavy hitters\n",
    "blogs_df.withColumn(\"Big Hitters\", (expr(\"Hits > 10000\"))).show()\n",
    "\n",
    "print(blogs_df.schema)\n"
   ]
  },
  {
   "cell_type": "code",
   "execution_count": 31,
   "metadata": {},
   "outputs": [],
   "source": [
    "departuredelays_csv_file = \"data/departuredelays.csv\"\n",
    "\n",
    "departuredelays_schema = \"`date` STRING, `delay` INT, `distance` INT, `origin` STRING, `destination` STRING\"\n",
    "\n",
    "df = (\n",
    "    spark1.read\n",
    "    .format(\"csv\")\n",
    "    .schema(departuredelays_schema)\n",
    "    .option(\"enforceSchema\", \"true\")\n",
    "    # .option(\"inferSchema\", \"true\")\n",
    "    .option(\"header\", \"true\")\n",
    "    .load(departuredelays_csv_file)\n",
    ")\n",
    "df.createOrReplaceTempView(\"us_delay_flights\")"
   ]
  },
  {
   "cell_type": "code",
   "execution_count": 34,
   "metadata": {},
   "outputs": [
    {
     "name": "stderr",
     "output_type": "stream",
     "text": [
      "\r",
      "[Stage 53:>                                                         (0 + 2) / 2]\r"
     ]
    },
    {
     "name": "stdout",
     "output_type": "stream",
     "text": [
      "+--------+------+-----------+\n",
      "|distance|origin|destination|\n",
      "+--------+------+-----------+\n",
      "|    4330|   HNL|        JFK|\n",
      "|    4330|   HNL|        JFK|\n",
      "|    4330|   HNL|        JFK|\n",
      "|    4330|   HNL|        JFK|\n",
      "|    4330|   HNL|        JFK|\n",
      "|    4330|   HNL|        JFK|\n",
      "|    4330|   HNL|        JFK|\n",
      "|    4330|   HNL|        JFK|\n",
      "|    4330|   HNL|        JFK|\n",
      "|    4330|   HNL|        JFK|\n",
      "+--------+------+-----------+\n",
      "\n"
     ]
    },
    {
     "name": "stderr",
     "output_type": "stream",
     "text": [
      "\r",
      "[Stage 53:=============================>                            (1 + 1) / 2]\r",
      "\r",
      "                                                                                \r"
     ]
    }
   ],
   "source": [
    "spark1.sql(\n",
    "\"\"\"\n",
    "select distance, origin, destination\n",
    "from us_delay_flights\n",
    "where distance > 1000\n",
    "order by distance desc\n",
    "limit 10\n",
    "\"\"\"\n",
    ").show(10)"
   ]
  },
  {
   "cell_type": "code",
   "execution_count": 35,
   "metadata": {},
   "outputs": [
    {
     "name": "stderr",
     "output_type": "stream",
     "text": [
      "\r",
      "[Stage 55:>                                                         (0 + 2) / 2]\r",
      "\r",
      "[Stage 55:=============================>                            (1 + 1) / 2]\r"
     ]
    },
    {
     "name": "stdout",
     "output_type": "stream",
     "text": [
      "+--------+-----+------+-----------+\n",
      "|    date|delay|origin|destination|\n",
      "+--------+-----+------+-----------+\n",
      "|02190925| 1638|   SFO|        ORD|\n",
      "|01031755|  396|   SFO|        ORD|\n",
      "|01022330|  326|   SFO|        ORD|\n",
      "|01051205|  320|   SFO|        ORD|\n",
      "|01190925|  297|   SFO|        ORD|\n",
      "|02171115|  296|   SFO|        ORD|\n",
      "|01071040|  279|   SFO|        ORD|\n",
      "|01051550|  274|   SFO|        ORD|\n",
      "|03120730|  266|   SFO|        ORD|\n",
      "|01261104|  258|   SFO|        ORD|\n",
      "+--------+-----+------+-----------+\n",
      "only showing top 10 rows\n",
      "\n"
     ]
    },
    {
     "name": "stderr",
     "output_type": "stream",
     "text": [
      "\r",
      "                                                                                \r"
     ]
    }
   ],
   "source": [
    "spark1.sql(\"\"\"\n",
    "select date, delay, origin, destination\n",
    "from us_delay_flights\n",
    "where delay > 120\n",
    "and origin = 'SFO'\n",
    "and destination = 'ORD'\n",
    "order by delay desc\n",
    "\"\"\").show(10)"
   ]
  },
  {
   "cell_type": "code",
   "execution_count": 46,
   "metadata": {},
   "outputs": [
    {
     "name": "stderr",
     "output_type": "stream",
     "text": [
      "\r",
      "[Stage 63:>                                                         (0 + 2) / 2]\r"
     ]
    },
    {
     "name": "stdout",
     "output_type": "stream",
     "text": [
      "+-----+------+-----------+-------------+\n",
      "|delay|origin|destination|flight_delays|\n",
      "+-----+------+-----------+-------------+\n",
      "|  333|   ABE|        ATL|  Long Delays|\n",
      "|  305|   ABE|        ATL|  Long Delays|\n",
      "|  275|   ABE|        ATL|  Long Delays|\n",
      "|  257|   ABE|        ATL|  Long Delays|\n",
      "|  247|   ABE|        ATL|  Long Delays|\n",
      "|  247|   ABE|        DTW|  Long Delays|\n",
      "|  219|   ABE|        ORD|  Long Delays|\n",
      "|  211|   ABE|        ATL|  Long Delays|\n",
      "|  197|   ABE|        DTW|  Long Delays|\n",
      "|  192|   ABE|        ORD|  Long Delays|\n",
      "+-----+------+-----------+-------------+\n",
      "only showing top 10 rows\n",
      "\n"
     ]
    },
    {
     "name": "stderr",
     "output_type": "stream",
     "text": [
      "\r",
      "[Stage 63:=============================>                            (1 + 1) / 2]\r",
      "\r",
      "                                                                                \r"
     ]
    }
   ],
   "source": [
    "spark1.sql(\"\"\"\n",
    "select delay, origin, destination,\n",
    "       case\n",
    "         when delay > 360 then 'Very Long Delays'\n",
    "         when delay >= 120 and delay <= 360 then 'Long Delays'\n",
    "         when delay >= 60 and delay < 120 then 'Short Delays'\n",
    "         when delay > 0 and delay < 60 then 'Tolerable Delays'\n",
    "         when delay = 0 then 'No Delay'\n",
    "         else 'Early'\n",
    "       end as flight_delays\n",
    "from us_delay_flights\n",
    "order by origin, delay desc\n",
    "\"\"\").show(10)"
   ]
  },
  {
   "cell_type": "code",
   "execution_count": 52,
   "metadata": {},
   "outputs": [
    {
     "name": "stdout",
     "output_type": "stream",
     "text": [
      "Help on method listColumns in module pyspark.sql.catalog:\n",
      "\n",
      "listColumns(tableName, dbName=None) method of pyspark.sql.catalog.Catalog instance\n",
      "    Returns a list of columns for the given table/view in the specified database.\n",
      "    \n",
      "    If no database is specified, the current database is used.\n",
      "    \n",
      "    Note: the order of arguments here is different from that of its JVM counterpart\n",
      "    because Python does not support method overloading.\n",
      "    \n",
      "    .. versionadded:: 2.0\n",
      "\n"
     ]
    }
   ],
   "source": [
    "spark1.catalog.listTables()\n",
    "# spark1.catalog.listColumns(\"us_delay_flights\", dbName=None)\n",
    "help(spark1.catalog.listColumns)"
   ]
  }
 ],
 "metadata": {
  "kernelspec": {
   "display_name": "Python 3 (ipykernel)",
   "language": "python",
   "name": "python3"
  },
  "language_info": {
   "codemirror_mode": {
    "name": "ipython",
    "version": 3
   },
   "file_extension": ".py",
   "mimetype": "text/x-python",
   "name": "python",
   "nbconvert_exporter": "python",
   "pygments_lexer": "ipython3",
   "version": "3.7.3"
  },
  "vscode": {
   "interpreter": {
    "hash": "bea294ee008d20969dc05d3aa98cf932d33529394c06cf2ff24ec82670e3759e"
   }
  }
 },
 "nbformat": 4,
 "nbformat_minor": 2
}
